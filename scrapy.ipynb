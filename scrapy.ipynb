{
 "cells": [
  {
   "cell_type": "code",
   "execution_count": 3,
   "metadata": {},
   "outputs": [],
   "source": [
    "import requests\n",
    "from scrapy.http import TextResponse   #includes Beautifull, xlm, regex "
   ]
  },
  {
   "cell_type": "code",
   "execution_count": 4,
   "metadata": {},
   "outputs": [],
   "source": [
    "url = 'http://quotes.toscrape.com/'\n",
    "r = requests.get(url)\n",
    "response = TextResponse(r.url, body=r.text, encoding=\"utf-8\")   "
   ]
  },
  {
   "cell_type": "code",
   "execution_count": 12,
   "metadata": {},
   "outputs": [
    {
     "data": {
      "text/plain": [
       "<200 http://quotes.toscrape.com/>"
      ]
     },
     "execution_count": 12,
     "metadata": {},
     "output_type": "execute_result"
    }
   ],
   "source": [
    "response"
   ]
  },
  {
   "cell_type": "code",
   "execution_count": 14,
   "metadata": {},
   "outputs": [
    {
     "data": {
      "text/plain": [
       "'<a href=\"/\" style=\"text-decoration: none\">Quotes to Scrape</a>'"
      ]
     },
     "execution_count": 14,
     "metadata": {},
     "output_type": "execute_result"
    }
   ],
   "source": [
    "#title\n",
    "response.css(\"a\").extract_first()   #like beautiful, extract as find_all()"
   ]
  },
  {
   "cell_type": "code",
   "execution_count": 17,
   "metadata": {},
   "outputs": [
    {
     "data": {
      "text/plain": [
       "'<a href=\"/\" style=\"text-decoration: none\">Quotes to Scrape</a>'"
      ]
     },
     "execution_count": 17,
     "metadata": {},
     "output_type": "execute_result"
    }
   ],
   "source": [
    "response.xpath(\"//a\").extract_first()   #like xml"
   ]
  },
  {
   "cell_type": "code",
   "execution_count": 23,
   "metadata": {
    "scrolled": true
   },
   "outputs": [
    {
     "data": {
      "text/plain": [
       "['Albert Einstein',\n",
       " 'J.K. Rowling',\n",
       " 'Albert Einstein',\n",
       " 'Jane Austen',\n",
       " 'Marilyn Monroe',\n",
       " 'Albert Einstein',\n",
       " 'André Gide',\n",
       " 'Thomas A. Edison',\n",
       " 'Eleanor Roosevelt',\n",
       " 'Steve Martin']"
      ]
     },
     "execution_count": 23,
     "metadata": {},
     "output_type": "execute_result"
    }
   ],
   "source": [
    "#authors\n",
    "response.css(\"small::text\").extract()"
   ]
  },
  {
   "cell_type": "code",
   "execution_count": 25,
   "metadata": {},
   "outputs": [
    {
     "data": {
      "text/plain": [
       "['Albert Einstein',\n",
       " 'J.K. Rowling',\n",
       " 'Albert Einstein',\n",
       " 'Jane Austen',\n",
       " 'Marilyn Monroe',\n",
       " 'Albert Einstein',\n",
       " 'André Gide',\n",
       " 'Thomas A. Edison',\n",
       " 'Eleanor Roosevelt',\n",
       " 'Steve Martin']"
      ]
     },
     "execution_count": 25,
     "metadata": {},
     "output_type": "execute_result"
    }
   ],
   "source": [
    "response.xpath(\"//small/text()\").extract()"
   ]
  },
  {
   "cell_type": "code",
   "execution_count": 27,
   "metadata": {},
   "outputs": [
    {
     "data": {
      "text/plain": [
       "['<a href=\"/\" style=\"text-decoration: none\">Quotes to Scrape</a>']"
      ]
     },
     "execution_count": 27,
     "metadata": {},
     "output_type": "execute_result"
    }
   ],
   "source": [
    "#hesading-css\n",
    "response.css(\"a[style='text-decoration: none']\").extract()"
   ]
  },
  {
   "cell_type": "code",
   "execution_count": 28,
   "metadata": {},
   "outputs": [
    {
     "data": {
      "text/plain": [
       "['Quotes to Scrape']"
      ]
     },
     "execution_count": 28,
     "metadata": {},
     "output_type": "execute_result"
    }
   ],
   "source": [
    "#only text\n",
    "response.css(\"a[style='text-decoration: none']::text\").extract()"
   ]
  },
  {
   "cell_type": "code",
   "execution_count": 29,
   "metadata": {},
   "outputs": [
    {
     "data": {
      "text/plain": [
       "['/']"
      ]
     },
     "execution_count": 29,
     "metadata": {},
     "output_type": "execute_result"
    }
   ],
   "source": [
    "#heading-css href only\n",
    "response.css(\"a[style='text-decoration: none']::attr(href)\").extract()"
   ]
  },
  {
   "cell_type": "code",
   "execution_count": 31,
   "metadata": {},
   "outputs": [
    {
     "data": {
      "text/plain": [
       "['change',\n",
       " 'deep-thoughts',\n",
       " 'thinking',\n",
       " 'world',\n",
       " 'abilities',\n",
       " 'choices',\n",
       " 'inspirational',\n",
       " 'life',\n",
       " 'live',\n",
       " 'miracle',\n",
       " 'miracles',\n",
       " 'aliteracy',\n",
       " 'books',\n",
       " 'classic',\n",
       " 'humor',\n",
       " 'be-yourself',\n",
       " 'inspirational',\n",
       " 'adulthood',\n",
       " 'success',\n",
       " 'value',\n",
       " 'life',\n",
       " 'love',\n",
       " 'edison',\n",
       " 'failure',\n",
       " 'inspirational',\n",
       " 'paraphrased',\n",
       " 'misattributed-eleanor-roosevelt',\n",
       " 'humor',\n",
       " 'obvious',\n",
       " 'simile',\n",
       " 'love',\n",
       " 'inspirational',\n",
       " 'life',\n",
       " 'humor',\n",
       " 'books',\n",
       " 'reading',\n",
       " 'friendship',\n",
       " 'friends',\n",
       " 'truth',\n",
       " 'simile']"
      ]
     },
     "execution_count": 31,
     "metadata": {},
     "output_type": "execute_result"
    }
   ],
   "source": [
    "#hashtags\n",
    "response.css(\"a[class='tag']::text\").extract()"
   ]
  },
  {
   "cell_type": "code",
   "execution_count": 32,
   "metadata": {},
   "outputs": [
    {
     "data": {
      "text/plain": [
       "['/tag/change/page/1/',\n",
       " '/tag/deep-thoughts/page/1/',\n",
       " '/tag/thinking/page/1/',\n",
       " '/tag/world/page/1/',\n",
       " '/tag/abilities/page/1/',\n",
       " '/tag/choices/page/1/',\n",
       " '/tag/inspirational/page/1/',\n",
       " '/tag/life/page/1/',\n",
       " '/tag/live/page/1/',\n",
       " '/tag/miracle/page/1/',\n",
       " '/tag/miracles/page/1/',\n",
       " '/tag/aliteracy/page/1/',\n",
       " '/tag/books/page/1/',\n",
       " '/tag/classic/page/1/',\n",
       " '/tag/humor/page/1/',\n",
       " '/tag/be-yourself/page/1/',\n",
       " '/tag/inspirational/page/1/',\n",
       " '/tag/adulthood/page/1/',\n",
       " '/tag/success/page/1/',\n",
       " '/tag/value/page/1/',\n",
       " '/tag/life/page/1/',\n",
       " '/tag/love/page/1/',\n",
       " '/tag/edison/page/1/',\n",
       " '/tag/failure/page/1/',\n",
       " '/tag/inspirational/page/1/',\n",
       " '/tag/paraphrased/page/1/',\n",
       " '/tag/misattributed-eleanor-roosevelt/page/1/',\n",
       " '/tag/humor/page/1/',\n",
       " '/tag/obvious/page/1/',\n",
       " '/tag/simile/page/1/',\n",
       " '/tag/love/',\n",
       " '/tag/inspirational/',\n",
       " '/tag/life/',\n",
       " '/tag/humor/',\n",
       " '/tag/books/',\n",
       " '/tag/reading/',\n",
       " '/tag/friendship/',\n",
       " '/tag/friends/',\n",
       " '/tag/truth/',\n",
       " '/tag/simile/']"
      ]
     },
     "execution_count": 32,
     "metadata": {},
     "output_type": "execute_result"
    }
   ],
   "source": [
    "response.css(\"a[class='tag']::attr(href)\").extract()"
   ]
  },
  {
   "cell_type": "code",
   "execution_count": 37,
   "metadata": {},
   "outputs": [
    {
     "data": {
      "text/plain": [
       "['change',\n",
       " 'deep-thoughts',\n",
       " 'thinking',\n",
       " 'world',\n",
       " 'abilities',\n",
       " 'choices',\n",
       " 'inspirational',\n",
       " 'life',\n",
       " 'live',\n",
       " 'miracle',\n",
       " 'miracles',\n",
       " 'aliteracy',\n",
       " 'books',\n",
       " 'classic',\n",
       " 'humor',\n",
       " 'be-yourself',\n",
       " 'inspirational',\n",
       " 'adulthood',\n",
       " 'success',\n",
       " 'value',\n",
       " 'life',\n",
       " 'love',\n",
       " 'edison',\n",
       " 'failure',\n",
       " 'inspirational',\n",
       " 'paraphrased',\n",
       " 'misattributed-eleanor-roosevelt',\n",
       " 'humor',\n",
       " 'obvious',\n",
       " 'simile',\n",
       " 'love',\n",
       " 'inspirational',\n",
       " 'life',\n",
       " 'humor',\n",
       " 'books',\n",
       " 'reading',\n",
       " 'friendship',\n",
       " 'friends',\n",
       " 'truth',\n",
       " 'simile']"
      ]
     },
     "execution_count": 37,
     "metadata": {},
     "output_type": "execute_result"
    }
   ],
   "source": [
    "response.xpath(\"//a[@class='tag']/text()\").extract()"
   ]
  },
  {
   "cell_type": "code",
   "execution_count": 36,
   "metadata": {},
   "outputs": [
    {
     "data": {
      "text/plain": [
       "['/tag/change/page/1/',\n",
       " '/tag/deep-thoughts/page/1/',\n",
       " '/tag/thinking/page/1/',\n",
       " '/tag/world/page/1/',\n",
       " '/tag/abilities/page/1/',\n",
       " '/tag/choices/page/1/',\n",
       " '/tag/inspirational/page/1/',\n",
       " '/tag/life/page/1/',\n",
       " '/tag/live/page/1/',\n",
       " '/tag/miracle/page/1/',\n",
       " '/tag/miracles/page/1/',\n",
       " '/tag/aliteracy/page/1/',\n",
       " '/tag/books/page/1/',\n",
       " '/tag/classic/page/1/',\n",
       " '/tag/humor/page/1/',\n",
       " '/tag/be-yourself/page/1/',\n",
       " '/tag/inspirational/page/1/',\n",
       " '/tag/adulthood/page/1/',\n",
       " '/tag/success/page/1/',\n",
       " '/tag/value/page/1/',\n",
       " '/tag/life/page/1/',\n",
       " '/tag/love/page/1/',\n",
       " '/tag/edison/page/1/',\n",
       " '/tag/failure/page/1/',\n",
       " '/tag/inspirational/page/1/',\n",
       " '/tag/paraphrased/page/1/',\n",
       " '/tag/misattributed-eleanor-roosevelt/page/1/',\n",
       " '/tag/humor/page/1/',\n",
       " '/tag/obvious/page/1/',\n",
       " '/tag/simile/page/1/',\n",
       " '/tag/love/',\n",
       " '/tag/inspirational/',\n",
       " '/tag/life/',\n",
       " '/tag/humor/',\n",
       " '/tag/books/',\n",
       " '/tag/reading/',\n",
       " '/tag/friendship/',\n",
       " '/tag/friends/',\n",
       " '/tag/truth/',\n",
       " '/tag/simile/']"
      ]
     },
     "execution_count": 36,
     "metadata": {},
     "output_type": "execute_result"
    }
   ],
   "source": [
    "response.xpath(\"//a[@class='tag']/@href\").extract()"
   ]
  },
  {
   "cell_type": "code",
   "execution_count": 6,
   "metadata": {},
   "outputs": [
    {
     "data": {
      "text/plain": [
       "['<title>Quotes to Scrape</title>']"
      ]
     },
     "execution_count": 6,
     "metadata": {},
     "output_type": "execute_result"
    }
   ],
   "source": [
    "response.css(\"title\").extract()"
   ]
  },
  {
   "cell_type": "code",
   "execution_count": 10,
   "metadata": {},
   "outputs": [
    {
     "data": {
      "text/plain": [
       "['Quotes to Scrape']"
      ]
     },
     "execution_count": 10,
     "metadata": {},
     "output_type": "execute_result"
    }
   ],
   "source": [
    "response.css(\"title\").re('[A-Z][a-z]+\\s[a-z]+\\s[A-Z][a-z]+')"
   ]
  },
  {
   "cell_type": "code",
   "execution_count": 12,
   "metadata": {},
   "outputs": [
    {
     "data": {
      "text/plain": [
       "['Quotes to Scrape']"
      ]
     },
     "execution_count": 12,
     "metadata": {},
     "output_type": "execute_result"
    }
   ],
   "source": [
    "response.css(\"title\").re('.+>(.+)<.+')"
   ]
  },
  {
   "cell_type": "code",
   "execution_count": null,
   "metadata": {},
   "outputs": [],
   "source": []
  }
 ],
 "metadata": {
  "kernelspec": {
   "display_name": "Python 3",
   "language": "python",
   "name": "python3"
  },
  "language_info": {
   "codemirror_mode": {
    "name": "ipython",
    "version": 3
   },
   "file_extension": ".py",
   "mimetype": "text/x-python",
   "name": "python",
   "nbconvert_exporter": "python",
   "pygments_lexer": "ipython3",
   "version": "3.6.5"
  }
 },
 "nbformat": 4,
 "nbformat_minor": 2
}
