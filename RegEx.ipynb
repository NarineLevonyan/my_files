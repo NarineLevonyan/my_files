{
 "cells": [
  {
   "cell_type": "code",
   "execution_count": 4,
   "metadata": {},
   "outputs": [],
   "source": [
    "import time\n",
    "import numpy as np\n",
    "import pandas as pd\n",
    "\n",
    "import requests\n",
    "from bs4 import BeautifulSoup\n",
    "from pprint import pprint\n",
    "import re\n",
    "\n",
    "from textblob import TextBlob, Word\n",
    "import nltk\n",
    "from nltk.stem import PorterStemmer\n",
    "from nltk.corpus import stopwords, wordnet"
   ]
  },
  {
   "cell_type": "code",
   "execution_count": 5,
   "metadata": {},
   "outputs": [],
   "source": [
    "base_url = \"http://quotes.toscrape.com/\"\n",
    "\n",
    "response = requests.get(base_url)\n",
    "page = response.content\n",
    "page = BeautifulSoup(page, 'html.parser')"
   ]
  },
  {
   "cell_type": "code",
   "execution_count": 11,
   "metadata": {},
   "outputs": [
    {
     "name": "stdout",
     "output_type": "stream",
     "text": [
      "('<!DOCTYPE html>\\n'\n",
      " '<html lang=\"en\">\\n'\n",
      " ' <head>\\n'\n",
      " '  <meta charset=\"utf-8\"/>\\n'\n",
      " '  <title>\\n'\n",
      " '   Quotes to Scrape\\n'\n",
      " '  </title>\\n'\n",
      " '  <link href=\"/static/bootstrap.min.css\" rel=\"stylesheet\"/>\\n'\n",
      " '  <link href=\"/static/main.css\" rel=\"stylesheet\"/>\\n'\n",
      " ' </head>\\n'\n",
      " ' <body>\\n'\n",
      " '  <div class=\"container\">\\n'\n",
      " '   <div class=\"row header-box\">\\n'\n",
      " '    <div class=\"col-md-8\">\\n'\n",
      " '     <h1>\\n'\n",
      " '      <a href=\"/\" style=\"text-decoration: none\">\\n'\n",
      " '       Quotes to Scrape\\n'\n",
      " '      </a>\\n'\n",
      " '     </h1>\\n'\n",
      " '    </div>\\n'\n",
      " '    <div class=\"col-md-4\">\\n'\n",
      " '     <p>\\n'\n",
      " '      <a href=\"/login\">\\n'\n",
      " '       Login\\n'\n",
      " '      </a>\\n'\n",
      " '     </p>\\n'\n",
      " '    </div>\\n'\n",
      " '   </div>\\n'\n",
      " '   <div class=\"row\">\\n'\n",
      " '    <div class=\"col-md-8\">\\n'\n",
      " '     <div class=\"quote\" itemscope=\"\" '\n",
      " 'itemtype=\"http://schema.org/CreativeWork\">\\n'\n",
      " '      <span class=\"text\" itemprop=\"text\">\\n'\n",
      " '       “The world as we have created it is a process of our thinking. It '\n",
      " 'cannot be changed without changing our thinking.”\\n'\n",
      " '      </span>\\n'\n",
      " '      <span>\\n'\n",
      " '       by\\n'\n",
      " '       <small class=\"author\" itemprop=\"author\">\\n'\n",
      " '        Albert Einstein\\n'\n",
      " '       </small>\\n'\n",
      " '       <a href=\"/author/Albert-Einstein\">\\n'\n",
      " '        (about)\\n'\n",
      " '       </a>\\n'\n",
      " '      </span>\\n'\n",
      " '      <div class=\"tags\">\\n'\n",
      " '       Tags:\\n'\n",
      " '       <meta class=\"keywords\" content=\"change,deep-thoughts,thinking,world\" '\n",
      " 'itemprop=\"keywords\"/>\\n'\n",
      " '       <a class=\"tag\" href=\"/tag/change/page/1/\">\\n'\n",
      " '        change\\n'\n",
      " '       </a>\\n'\n",
      " '       <a class=\"tag\" href=\"/tag/deep-thoughts/page/1/\">\\n'\n",
      " '        deep-thoughts\\n'\n",
      " '       </a>\\n'\n",
      " '       <a class=\"tag\" href=\"/tag/thinking/page/1/\">\\n'\n",
      " '        thinking\\n'\n",
      " '       </a>\\n'\n",
      " '       <a class=\"tag\" href=\"/tag/world/page/1/\">\\n'\n",
      " '        world\\n'\n",
      " '       </a>\\n'\n",
      " '      </div>\\n'\n",
      " '     </div>\\n'\n",
      " '     <div class=\"quote\" itemscope=\"\" '\n",
      " 'itemtype=\"http://schema.org/CreativeWork\">\\n'\n",
      " '      <span class=\"text\" itemprop=\"text\">\\n'\n",
      " '       “It is our choices, Harry, that show what we truly are, far more than '\n",
      " 'our abilities.”\\n'\n",
      " '      </span>\\n'\n",
      " '      <span>\\n'\n",
      " '       by\\n'\n",
      " '       <small class=\"author\" itemprop=\"author\">\\n'\n",
      " '        J.K. Rowling\\n'\n",
      " '       </small>\\n'\n",
      " '       <a href=\"/author/J-K-Rowling\">\\n'\n",
      " '        (about)\\n'\n",
      " '       </a>\\n'\n",
      " '      </span>\\n'\n",
      " '      <div class=\"tags\">\\n'\n",
      " '       Tags:\\n'\n",
      " '       <meta class=\"keywords\" content=\"abilities,choices\" '\n",
      " 'itemprop=\"keywords\"/>\\n'\n",
      " '       <a class=\"tag\" href=\"/tag/abilities/page/1/\">\\n'\n",
      " '        abilities\\n'\n",
      " '       </a>\\n'\n",
      " '       <a class=\"tag\" href=\"/tag/choices/page/1/\">\\n'\n",
      " '        choices\\n'\n",
      " '       </a>\\n'\n",
      " '      </div>\\n'\n",
      " '     </div>\\n'\n",
      " '     <div class=\"quote\" itemscope=\"\" '\n",
      " 'itemtype=\"http://schema.org/CreativeWork\">\\n'\n",
      " '      <span class=\"text\" itemprop=\"text\">\\n'\n",
      " '       “There are only two ways to live your life. One is as though nothing '\n",
      " 'is a miracle. The other is as though everything is a miracle.”\\n'\n",
      " '      </span>\\n'\n",
      " '      <span>\\n'\n",
      " '       by\\n'\n",
      " '       <small class=\"author\" itemprop=\"author\">\\n'\n",
      " '        Albert Einstein\\n'\n",
      " '       </small>\\n'\n",
      " '       <a href=\"/author/Albert-Einstein\">\\n'\n",
      " '        (about)\\n'\n",
      " '       </a>\\n'\n",
      " '      </span>\\n'\n",
      " '      <div class=\"tags\">\\n'\n",
      " '       Tags:\\n'\n",
      " '       <meta class=\"keywords\" '\n",
      " 'content=\"inspirational,life,live,miracle,miracles\" itemprop=\"keywords\"/>\\n'\n",
      " '       <a class=\"tag\" href=\"/tag/inspirational/page/1/\">\\n'\n",
      " '        inspirational\\n'\n",
      " '       </a>\\n'\n",
      " '       <a class=\"tag\" href=\"/tag/life/page/1/\">\\n'\n",
      " '        life\\n'\n",
      " '       </a>\\n'\n",
      " '       <a class=\"tag\" href=\"/tag/live/page/1/\">\\n'\n",
      " '        live\\n'\n",
      " '       </a>\\n'\n",
      " '       <a class=\"tag\" href=\"/tag/miracle/page/1/\">\\n'\n",
      " '        miracle\\n'\n",
      " '       </a>\\n'\n",
      " '       <a class=\"tag\" href=\"/tag/miracles/page/1/\">\\n'\n",
      " '        miracles\\n'\n",
      " '       </a>\\n'\n",
      " '      </div>\\n'\n",
      " '     </div>\\n'\n",
      " '     <div class=\"quote\" itemscope=\"\" '\n",
      " 'itemtype=\"http://schema.org/CreativeWork\">\\n'\n",
      " '      <span class=\"text\" itemprop=\"text\">\\n'\n",
      " '       “The person, be it gentleman or lady, who has not pleasure in a good '\n",
      " 'novel, must be intolerably stupid.”\\n'\n",
      " '      </span>\\n'\n",
      " '      <span>\\n'\n",
      " '       by\\n'\n",
      " '       <small class=\"author\" itemprop=\"author\">\\n'\n",
      " '        Jane Austen\\n'\n",
      " '       </small>\\n'\n",
      " '       <a href=\"/author/Jane-Austen\">\\n'\n",
      " '        (about)\\n'\n",
      " '       </a>\\n'\n",
      " '      </span>\\n'\n",
      " '      <div class=\"tags\">\\n'\n",
      " '       Tags:\\n'\n",
      " '       <meta class=\"keywords\" content=\"aliteracy,books,classic,humor\" '\n",
      " 'itemprop=\"keywords\"/>\\n'\n",
      " '       <a class=\"tag\" href=\"/tag/aliteracy/page/1/\">\\n'\n",
      " '        aliteracy\\n'\n",
      " '       </a>\\n'\n",
      " '       <a class=\"tag\" href=\"/tag/books/page/1/\">\\n'\n",
      " '        books\\n'\n",
      " '       </a>\\n'\n",
      " '       <a class=\"tag\" href=\"/tag/classic/page/1/\">\\n'\n",
      " '        classic\\n'\n",
      " '       </a>\\n'\n",
      " '       <a class=\"tag\" href=\"/tag/humor/page/1/\">\\n'\n",
      " '        humor\\n'\n",
      " '       </a>\\n'\n",
      " '      </div>\\n'\n",
      " '     </div>\\n'\n",
      " '     <div class=\"quote\" itemscope=\"\" '\n",
      " 'itemtype=\"http://schema.org/CreativeWork\">\\n'\n",
      " '      <span class=\"text\" itemprop=\"text\">\\n'\n",
      " \"       “Imperfection is beauty, madness is genius and it's better to be \"\n",
      " 'absolutely ridiculous than absolutely boring.”\\n'\n",
      " '      </span>\\n'\n",
      " '      <span>\\n'\n",
      " '       by\\n'\n",
      " '       <small class=\"author\" itemprop=\"author\">\\n'\n",
      " '        Marilyn Monroe\\n'\n",
      " '       </small>\\n'\n",
      " '       <a href=\"/author/Marilyn-Monroe\">\\n'\n",
      " '        (about)\\n'\n",
      " '       </a>\\n'\n",
      " '      </span>\\n'\n",
      " '      <div class=\"tags\">\\n'\n",
      " '       Tags:\\n'\n",
      " '       <meta class=\"keywords\" content=\"be-yourself,inspirational\" '\n",
      " 'itemprop=\"keywords\"/>\\n'\n",
      " '       <a class=\"tag\" href=\"/tag/be-yourself/page/1/\">\\n'\n",
      " '        be-yourself\\n'\n",
      " '       </a>\\n'\n",
      " '       <a class=\"tag\" href=\"/tag/inspirational/page/1/\">\\n'\n",
      " '        inspirational\\n'\n",
      " '       </a>\\n'\n",
      " '      </div>\\n'\n",
      " '     </div>\\n'\n",
      " '     <div class=\"quote\" itemscope=\"\" '\n",
      " 'itemtype=\"http://schema.org/CreativeWork\">\\n'\n",
      " '      <span class=\"text\" itemprop=\"text\">\\n'\n",
      " '       “Try not to become a man of success. Rather become a man of value.”\\n'\n",
      " '      </span>\\n'\n",
      " '      <span>\\n'\n",
      " '       by\\n'\n",
      " '       <small class=\"author\" itemprop=\"author\">\\n'\n",
      " '        Albert Einstein\\n'\n",
      " '       </small>\\n'\n",
      " '       <a href=\"/author/Albert-Einstein\">\\n'\n",
      " '        (about)\\n'\n",
      " '       </a>\\n'\n",
      " '      </span>\\n'\n",
      " '      <div class=\"tags\">\\n'\n",
      " '       Tags:\\n'\n",
      " '       <meta class=\"keywords\" content=\"adulthood,success,value\" '\n",
      " 'itemprop=\"keywords\"/>\\n'\n",
      " '       <a class=\"tag\" href=\"/tag/adulthood/page/1/\">\\n'\n",
      " '        adulthood\\n'\n",
      " '       </a>\\n'\n",
      " '       <a class=\"tag\" href=\"/tag/success/page/1/\">\\n'\n",
      " '        success\\n'\n",
      " '       </a>\\n'\n",
      " '       <a class=\"tag\" href=\"/tag/value/page/1/\">\\n'\n",
      " '        value\\n'\n",
      " '       </a>\\n'\n",
      " '      </div>\\n'\n",
      " '     </div>\\n'\n",
      " '     <div class=\"quote\" itemscope=\"\" '\n",
      " 'itemtype=\"http://schema.org/CreativeWork\">\\n'\n",
      " '      <span class=\"text\" itemprop=\"text\">\\n'\n",
      " '       “It is better to be hated for what you are than to be loved for what '\n",
      " 'you are not.”\\n'\n",
      " '      </span>\\n'\n",
      " '      <span>\\n'\n",
      " '       by\\n'\n",
      " '       <small class=\"author\" itemprop=\"author\">\\n'\n",
      " '        André Gide\\n'\n",
      " '       </small>\\n'\n",
      " '       <a href=\"/author/Andre-Gide\">\\n'\n",
      " '        (about)\\n'\n",
      " '       </a>\\n'\n",
      " '      </span>\\n'\n",
      " '      <div class=\"tags\">\\n'\n",
      " '       Tags:\\n'\n",
      " '       <meta class=\"keywords\" content=\"life,love\" itemprop=\"keywords\"/>\\n'\n",
      " '       <a class=\"tag\" href=\"/tag/life/page/1/\">\\n'\n",
      " '        life\\n'\n",
      " '       </a>\\n'\n",
      " '       <a class=\"tag\" href=\"/tag/love/page/1/\">\\n'\n",
      " '        love\\n'\n",
      " '       </a>\\n'\n",
      " '      </div>\\n'\n",
      " '     </div>\\n'\n",
      " '     <div class=\"quote\" itemscope=\"\" '\n",
      " 'itemtype=\"http://schema.org/CreativeWork\">\\n'\n",
      " '      <span class=\"text\" itemprop=\"text\">\\n'\n",
      " \"       “I have not failed. I've just found 10,000 ways that won't work.”\\n\"\n",
      " '      </span>\\n'\n",
      " '      <span>\\n'\n",
      " '       by\\n'\n",
      " '       <small class=\"author\" itemprop=\"author\">\\n'\n",
      " '        Thomas A. Edison\\n'\n",
      " '       </small>\\n'\n",
      " '       <a href=\"/author/Thomas-A-Edison\">\\n'\n",
      " '        (about)\\n'\n",
      " '       </a>\\n'\n",
      " '      </span>\\n'\n",
      " '      <div class=\"tags\">\\n'\n",
      " '       Tags:\\n'\n",
      " '       <meta class=\"keywords\" '\n",
      " 'content=\"edison,failure,inspirational,paraphrased\" itemprop=\"keywords\"/>\\n'\n",
      " '       <a class=\"tag\" href=\"/tag/edison/page/1/\">\\n'\n",
      " '        edison\\n'\n",
      " '       </a>\\n'\n",
      " '       <a class=\"tag\" href=\"/tag/failure/page/1/\">\\n'\n",
      " '        failure\\n'\n",
      " '       </a>\\n'\n",
      " '       <a class=\"tag\" href=\"/tag/inspirational/page/1/\">\\n'\n",
      " '        inspirational\\n'\n",
      " '       </a>\\n'\n",
      " '       <a class=\"tag\" href=\"/tag/paraphrased/page/1/\">\\n'\n",
      " '        paraphrased\\n'\n",
      " '       </a>\\n'\n",
      " '      </div>\\n'\n",
      " '     </div>\\n'\n",
      " '     <div class=\"quote\" itemscope=\"\" '\n",
      " 'itemtype=\"http://schema.org/CreativeWork\">\\n'\n",
      " '      <span class=\"text\" itemprop=\"text\">\\n'\n",
      " '       “A woman is like a tea bag; you never know how strong it is until '\n",
      " \"it's in hot water.”\\n\"\n",
      " '      </span>\\n'\n",
      " '      <span>\\n'\n",
      " '       by\\n'\n",
      " '       <small class=\"author\" itemprop=\"author\">\\n'\n",
      " '        Eleanor Roosevelt\\n'\n",
      " '       </small>\\n'\n",
      " '       <a href=\"/author/Eleanor-Roosevelt\">\\n'\n",
      " '        (about)\\n'\n",
      " '       </a>\\n'\n",
      " '      </span>\\n'\n",
      " '      <div class=\"tags\">\\n'\n",
      " '       Tags:\\n'\n",
      " '       <meta class=\"keywords\" content=\"misattributed-eleanor-roosevelt\" '\n",
      " 'itemprop=\"keywords\"/>\\n'\n",
      " '       <a class=\"tag\" href=\"/tag/misattributed-eleanor-roosevelt/page/1/\">\\n'\n",
      " '        misattributed-eleanor-roosevelt\\n'\n",
      " '       </a>\\n'\n",
      " '      </div>\\n'\n",
      " '     </div>\\n'\n",
      " '     <div class=\"quote\" itemscope=\"\" '\n",
      " 'itemtype=\"http://schema.org/CreativeWork\">\\n'\n",
      " '      <span class=\"text\" itemprop=\"text\">\\n'\n",
      " '       “A day without sunshine is like, you know, night.”\\n'\n",
      " '      </span>\\n'\n",
      " '      <span>\\n'\n",
      " '       by\\n'\n",
      " '       <small class=\"author\" itemprop=\"author\">\\n'\n",
      " '        Steve Martin\\n'\n",
      " '       </small>\\n'\n",
      " '       <a href=\"/author/Steve-Martin\">\\n'\n",
      " '        (about)\\n'\n",
      " '       </a>\\n'\n",
      " '      </span>\\n'\n",
      " '      <div class=\"tags\">\\n'\n",
      " '       Tags:\\n'\n",
      " '       <meta class=\"keywords\" content=\"humor,obvious,simile\" '\n",
      " 'itemprop=\"keywords\"/>\\n'\n",
      " '       <a class=\"tag\" href=\"/tag/humor/page/1/\">\\n'\n",
      " '        humor\\n'\n",
      " '       </a>\\n'\n",
      " '       <a class=\"tag\" href=\"/tag/obvious/page/1/\">\\n'\n",
      " '        obvious\\n'\n",
      " '       </a>\\n'\n",
      " '       <a class=\"tag\" href=\"/tag/simile/page/1/\">\\n'\n",
      " '        simile\\n'\n",
      " '       </a>\\n'\n",
      " '      </div>\\n'\n",
      " '     </div>\\n'\n",
      " '     <nav>\\n'\n",
      " '      <ul class=\"pager\">\\n'\n",
      " '       <li class=\"next\">\\n'\n",
      " '        <a href=\"/page/2/\">\\n'\n",
      " '         Next\\n'\n",
      " '         <span aria-hidden=\"true\">\\n'\n",
      " '          →\\n'\n",
      " '         </span>\\n'\n",
      " '        </a>\\n'\n",
      " '       </li>\\n'\n",
      " '      </ul>\\n'\n",
      " '     </nav>\\n'\n",
      " '    </div>\\n'\n",
      " '    <div class=\"col-md-4 tags-box\">\\n'\n",
      " '     <h2>\\n'\n",
      " '      Top Ten tags\\n'\n",
      " '     </h2>\\n'\n",
      " '     <span class=\"tag-item\">\\n'\n",
      " '      <a class=\"tag\" href=\"/tag/love/\" style=\"font-size: 28px\">\\n'\n",
      " '       love\\n'\n",
      " '      </a>\\n'\n",
      " '     </span>\\n'\n",
      " '     <span class=\"tag-item\">\\n'\n",
      " '      <a class=\"tag\" href=\"/tag/inspirational/\" style=\"font-size: 26px\">\\n'\n",
      " '       inspirational\\n'\n",
      " '      </a>\\n'\n",
      " '     </span>\\n'\n",
      " '     <span class=\"tag-item\">\\n'\n",
      " '      <a class=\"tag\" href=\"/tag/life/\" style=\"font-size: 26px\">\\n'\n",
      " '       life\\n'\n",
      " '      </a>\\n'\n",
      " '     </span>\\n'\n",
      " '     <span class=\"tag-item\">\\n'\n",
      " '      <a class=\"tag\" href=\"/tag/humor/\" style=\"font-size: 24px\">\\n'\n",
      " '       humor\\n'\n",
      " '      </a>\\n'\n",
      " '     </span>\\n'\n",
      " '     <span class=\"tag-item\">\\n'\n",
      " '      <a class=\"tag\" href=\"/tag/books/\" style=\"font-size: 22px\">\\n'\n",
      " '       books\\n'\n",
      " '      </a>\\n'\n",
      " '     </span>\\n'\n",
      " '     <span class=\"tag-item\">\\n'\n",
      " '      <a class=\"tag\" href=\"/tag/reading/\" style=\"font-size: 14px\">\\n'\n",
      " '       reading\\n'\n",
      " '      </a>\\n'\n",
      " '     </span>\\n'\n",
      " '     <span class=\"tag-item\">\\n'\n",
      " '      <a class=\"tag\" href=\"/tag/friendship/\" style=\"font-size: 10px\">\\n'\n",
      " '       friendship\\n'\n",
      " '      </a>\\n'\n",
      " '     </span>\\n'\n",
      " '     <span class=\"tag-item\">\\n'\n",
      " '      <a class=\"tag\" href=\"/tag/friends/\" style=\"font-size: 8px\">\\n'\n",
      " '       friends\\n'\n",
      " '      </a>\\n'\n",
      " '     </span>\\n'\n",
      " '     <span class=\"tag-item\">\\n'\n",
      " '      <a class=\"tag\" href=\"/tag/truth/\" style=\"font-size: 8px\">\\n'\n",
      " '       truth\\n'\n",
      " '      </a>\\n'\n",
      " '     </span>\\n'\n",
      " '     <span class=\"tag-item\">\\n'\n",
      " '      <a class=\"tag\" href=\"/tag/simile/\" style=\"font-size: 6px\">\\n'\n",
      " '       simile\\n'\n",
      " '      </a>\\n'\n",
      " '     </span>\\n'\n",
      " '    </div>\\n'\n",
      " '   </div>\\n'\n",
      " '  </div>\\n'\n",
      " '  <footer class=\"footer\">\\n'\n",
      " '   <div class=\"container\">\\n'\n",
      " '    <p class=\"text-muted\">\\n'\n",
      " '     Quotes by:\\n'\n",
      " '     <a href=\"https://www.goodreads.com/quotes\">\\n'\n",
      " '      GoodReads.com\\n'\n",
      " '     </a>\\n'\n",
      " '    </p>\\n'\n",
      " '    <p class=\"copyright\">\\n'\n",
      " '     Made with\\n'\n",
      " '     <span class=\"sh-red\">\\n'\n",
      " '      ❤\\n'\n",
      " '     </span>\\n'\n",
      " '     by\\n'\n",
      " '     <a href=\"https://scrapinghub.com\">\\n'\n",
      " '      Scrapinghub\\n'\n",
      " '     </a>\\n'\n",
      " '    </p>\\n'\n",
      " '   </div>\\n'\n",
      " '  </footer>\\n'\n",
      " ' </body>\\n'\n",
      " '</html>')\n"
     ]
    }
   ],
   "source": [
    "pprint(page.prettify())"
   ]
  },
  {
   "cell_type": "code",
   "execution_count": 13,
   "metadata": {},
   "outputs": [],
   "source": [
    "text = page.find_all('span', class_='text')\n",
    "text = [txt.get_text() for txt in text]"
   ]
  },
  {
   "cell_type": "code",
   "execution_count": 15,
   "metadata": {},
   "outputs": [],
   "source": [
    "authors = page.find_all('small', class_='author')\n",
    "links = [au.find_next_sibling('a').get('href') for au in authors]\n",
    "authors = [au.get_text() for au in authors]"
   ]
  },
  {
   "cell_type": "code",
   "execution_count": 16,
   "metadata": {},
   "outputs": [
    {
     "name": "stdout",
     "output_type": "stream",
     "text": [
      "('“The world as we have created it is a process of our thinking. It cannot be '\n",
      " 'changed without changing our thinking.”')\n",
      "/author/Albert-Einstein\n",
      "Albert Einstein\n"
     ]
    },
    {
     "data": {
      "text/plain": [
       "(None, None, None)"
      ]
     },
     "execution_count": 16,
     "metadata": {},
     "output_type": "execute_result"
    }
   ],
   "source": [
    "pprint(text[0]), print(links[0]), print(authors[0])"
   ]
  },
  {
   "cell_type": "code",
   "execution_count": 6,
   "metadata": {},
   "outputs": [],
   "source": [
    "def my_scraper(url):\n",
    "    response = requests.get(base_url)\n",
    "    page = response.content\n",
    "    page = BeautifulSoup(page, 'html.parser')\n",
    "    \n",
    "    text = page.find_all('span', class_='text')\n",
    "    quotes_text = [txt.get_text() for txt in text]\n",
    "    \n",
    "    authors = page.find_all('small', class_='author')\n",
    "    links = [au.find_next_sibling('a').get('href') for au in authors]\n",
    "    authors_text = [au.get_text() for au in authors]\n",
    "    \n",
    "    my_output = {\"quotes\": quotes_text, \"authors\": authors_text, \"author_links\": links}\n",
    "    \n",
    "    my_df = pd.DataFrame(my_output)\n",
    "    \n",
    "    return my_output #my_output #quotes_text, links, authors_text"
   ]
  },
  {
   "cell_type": "code",
   "execution_count": 7,
   "metadata": {},
   "outputs": [
    {
     "name": "stdout",
     "output_type": "stream",
     "text": [
      "{'author_links': ['/author/Albert-Einstein',\n",
      "                  '/author/J-K-Rowling',\n",
      "                  '/author/Albert-Einstein',\n",
      "                  '/author/Jane-Austen',\n",
      "                  '/author/Marilyn-Monroe',\n",
      "                  '/author/Albert-Einstein',\n",
      "                  '/author/Andre-Gide',\n",
      "                  '/author/Thomas-A-Edison',\n",
      "                  '/author/Eleanor-Roosevelt',\n",
      "                  '/author/Steve-Martin'],\n",
      " 'authors': ['Albert Einstein',\n",
      "             'J.K. Rowling',\n",
      "             'Albert Einstein',\n",
      "             'Jane Austen',\n",
      "             'Marilyn Monroe',\n",
      "             'Albert Einstein',\n",
      "             'André Gide',\n",
      "             'Thomas A. Edison',\n",
      "             'Eleanor Roosevelt',\n",
      "             'Steve Martin'],\n",
      " 'quotes': ['“The world as we have created it is a process of our thinking. It '\n",
      "            'cannot be changed without changing our thinking.”',\n",
      "            '“It is our choices, Harry, that show what we truly are, far more '\n",
      "            'than our abilities.”',\n",
      "            '“There are only two ways to live your life. One is as though '\n",
      "            'nothing is a miracle. The other is as though everything is a '\n",
      "            'miracle.”',\n",
      "            '“The person, be it gentleman or lady, who has not pleasure in a '\n",
      "            'good novel, must be intolerably stupid.”',\n",
      "            \"“Imperfection is beauty, madness is genius and it's better to be \"\n",
      "            'absolutely ridiculous than absolutely boring.”',\n",
      "            '“Try not to become a man of success. Rather become a man of '\n",
      "            'value.”',\n",
      "            '“It is better to be hated for what you are than to be loved for '\n",
      "            'what you are not.”',\n",
      "            \"“I have not failed. I've just found 10,000 ways that won't work.”\",\n",
      "            '“A woman is like a tea bag; you never know how strong it is until '\n",
      "            \"it's in hot water.”\",\n",
      "            '“A day without sunshine is like, you know, night.”']}\n"
     ]
    }
   ],
   "source": [
    "my_data = my_scraper(base_url)\n",
    "\n",
    "pprint(my_data)"
   ]
  },
  {
   "cell_type": "markdown",
   "metadata": {},
   "source": [
    "Dictionaries"
   ]
  },
  {
   "cell_type": "code",
   "execution_count": 21,
   "metadata": {},
   "outputs": [],
   "source": [
    "names = ['John', 'James', 'Jimmy', 'Kate', 'Kim', 'Karina']"
   ]
  },
  {
   "cell_type": "code",
   "execution_count": 22,
   "metadata": {},
   "outputs": [],
   "source": [
    "names_dict = {\n",
    "    \"males\": ['John', 'James', 'Jimmy'],\n",
    "    \"females\": ['Kate', 'Kim', 'Karina']\n",
    "}"
   ]
  },
  {
   "cell_type": "code",
   "execution_count": 24,
   "metadata": {},
   "outputs": [
    {
     "name": "stdout",
     "output_type": "stream",
     "text": [
      "{'females': ['Kate', 'Kim', 'Karina'], 'males': ['John', 'James', 'Jimmy']}\n"
     ]
    }
   ],
   "source": [
    "pprint(names_dict)"
   ]
  },
  {
   "cell_type": "code",
   "execution_count": 25,
   "metadata": {},
   "outputs": [
    {
     "name": "stdout",
     "output_type": "stream",
     "text": [
      "{'author_links': ['/author/Albert-Einstein',\n",
      "                  '/author/J-K-Rowling',\n",
      "                  '/author/Albert-Einstein',\n",
      "                  '/author/Jane-Austen',\n",
      "                  '/author/Marilyn-Monroe',\n",
      "                  '/author/Albert-Einstein',\n",
      "                  '/author/Andre-Gide',\n",
      "                  '/author/Thomas-A-Edison',\n",
      "                  '/author/Eleanor-Roosevelt',\n",
      "                  '/author/Steve-Martin'],\n",
      " 'authors': ['Albert Einstein',\n",
      "             'J.K. Rowling',\n",
      "             'Albert Einstein',\n",
      "             'Jane Austen',\n",
      "             'Marilyn Monroe',\n",
      "             'Albert Einstein',\n",
      "             'André Gide',\n",
      "             'Thomas A. Edison',\n",
      "             'Eleanor Roosevelt',\n",
      "             'Steve Martin'],\n",
      " 'quotes': ['“The world as we have created it is a process of our thinking. It '\n",
      "            'cannot be changed without changing our thinking.”',\n",
      "            '“It is our choices, Harry, that show what we truly are, far more '\n",
      "            'than our abilities.”',\n",
      "            '“There are only two ways to live your life. One is as though '\n",
      "            'nothing is a miracle. The other is as though everything is a '\n",
      "            'miracle.”',\n",
      "            '“The person, be it gentleman or lady, who has not pleasure in a '\n",
      "            'good novel, must be intolerably stupid.”',\n",
      "            \"“Imperfection is beauty, madness is genius and it's better to be \"\n",
      "            'absolutely ridiculous than absolutely boring.”',\n",
      "            '“Try not to become a man of success. Rather become a man of '\n",
      "            'value.”',\n",
      "            '“It is better to be hated for what you are than to be loved for '\n",
      "            'what you are not.”',\n",
      "            \"“I have not failed. I've just found 10,000 ways that won't work.”\",\n",
      "            '“A woman is like a tea bag; you never know how strong it is until '\n",
      "            \"it's in hot water.”\",\n",
      "            '“A day without sunshine is like, you know, night.”']}\n"
     ]
    }
   ],
   "source": [
    "scrape_data = my_scraper(base_url)\n",
    "pprint(scrape_data)"
   ]
  },
  {
   "cell_type": "code",
   "execution_count": 27,
   "metadata": {},
   "outputs": [
    {
     "name": "stdout",
     "output_type": "stream",
     "text": [
      "                                              quotes            authors  \\\n",
      "0  “The world as we have created it is a process ...    Albert Einstein   \n",
      "1  “It is our choices, Harry, that show what we t...       J.K. Rowling   \n",
      "2  “There are only two ways to live your life. On...    Albert Einstein   \n",
      "3  “The person, be it gentleman or lady, who has ...        Jane Austen   \n",
      "4  “Imperfection is beauty, madness is genius and...     Marilyn Monroe   \n",
      "5  “Try not to become a man of success. Rather be...    Albert Einstein   \n",
      "6  “It is better to be hated for what you are tha...         André Gide   \n",
      "7  “I have not failed. I've just found 10,000 way...   Thomas A. Edison   \n",
      "8  “A woman is like a tea bag; you never know how...  Eleanor Roosevelt   \n",
      "9  “A day without sunshine is like, you know, nig...       Steve Martin   \n",
      "\n",
      "                author_links  \n",
      "0    /author/Albert-Einstein  \n",
      "1        /author/J-K-Rowling  \n",
      "2    /author/Albert-Einstein  \n",
      "3        /author/Jane-Austen  \n",
      "4     /author/Marilyn-Monroe  \n",
      "5    /author/Albert-Einstein  \n",
      "6         /author/Andre-Gide  \n",
      "7    /author/Thomas-A-Edison  \n",
      "8  /author/Eleanor-Roosevelt  \n",
      "9       /author/Steve-Martin  \n"
     ]
    }
   ],
   "source": [
    "my_df = my_scraper(base_url)\n",
    "pprint(my_df)"
   ]
  },
  {
   "cell_type": "code",
   "execution_count": 28,
   "metadata": {},
   "outputs": [
    {
     "data": {
      "text/html": [
       "<div>\n",
       "<style scoped>\n",
       "    .dataframe tbody tr th:only-of-type {\n",
       "        vertical-align: middle;\n",
       "    }\n",
       "\n",
       "    .dataframe tbody tr th {\n",
       "        vertical-align: top;\n",
       "    }\n",
       "\n",
       "    .dataframe thead th {\n",
       "        text-align: right;\n",
       "    }\n",
       "</style>\n",
       "<table border=\"1\" class=\"dataframe\">\n",
       "  <thead>\n",
       "    <tr style=\"text-align: right;\">\n",
       "      <th></th>\n",
       "      <th>quotes</th>\n",
       "      <th>authors</th>\n",
       "      <th>author_links</th>\n",
       "    </tr>\n",
       "  </thead>\n",
       "  <tbody>\n",
       "    <tr>\n",
       "      <th>0</th>\n",
       "      <td>“The world as we have created it is a process ...</td>\n",
       "      <td>Albert Einstein</td>\n",
       "      <td>/author/Albert-Einstein</td>\n",
       "    </tr>\n",
       "    <tr>\n",
       "      <th>1</th>\n",
       "      <td>“It is our choices, Harry, that show what we t...</td>\n",
       "      <td>J.K. Rowling</td>\n",
       "      <td>/author/J-K-Rowling</td>\n",
       "    </tr>\n",
       "    <tr>\n",
       "      <th>2</th>\n",
       "      <td>“There are only two ways to live your life. On...</td>\n",
       "      <td>Albert Einstein</td>\n",
       "      <td>/author/Albert-Einstein</td>\n",
       "    </tr>\n",
       "    <tr>\n",
       "      <th>3</th>\n",
       "      <td>“The person, be it gentleman or lady, who has ...</td>\n",
       "      <td>Jane Austen</td>\n",
       "      <td>/author/Jane-Austen</td>\n",
       "    </tr>\n",
       "    <tr>\n",
       "      <th>4</th>\n",
       "      <td>“Imperfection is beauty, madness is genius and...</td>\n",
       "      <td>Marilyn Monroe</td>\n",
       "      <td>/author/Marilyn-Monroe</td>\n",
       "    </tr>\n",
       "  </tbody>\n",
       "</table>\n",
       "</div>"
      ],
      "text/plain": [
       "                                              quotes          authors  \\\n",
       "0  “The world as we have created it is a process ...  Albert Einstein   \n",
       "1  “It is our choices, Harry, that show what we t...     J.K. Rowling   \n",
       "2  “There are only two ways to live your life. On...  Albert Einstein   \n",
       "3  “The person, be it gentleman or lady, who has ...      Jane Austen   \n",
       "4  “Imperfection is beauty, madness is genius and...   Marilyn Monroe   \n",
       "\n",
       "              author_links  \n",
       "0  /author/Albert-Einstein  \n",
       "1      /author/J-K-Rowling  \n",
       "2  /author/Albert-Einstein  \n",
       "3      /author/Jane-Austen  \n",
       "4   /author/Marilyn-Monroe  "
      ]
     },
     "execution_count": 28,
     "metadata": {},
     "output_type": "execute_result"
    }
   ],
   "source": [
    "my_df.head()"
   ]
  },
  {
   "cell_type": "code",
   "execution_count": 3,
   "metadata": {},
   "outputs": [],
   "source": [
    "def my_scraper1(url):\n",
    "    response = requests.get(base_url)\n",
    "    page = response.content\n",
    "    page = BeautifulSoup(page, 'html.parser')\n",
    "    \n",
    "    text = page.find_all('span', class_='text')\n",
    "    quotes = page.select(\"div.quote span.text\")\n",
    "    quotes_text = [txt.get_text() for txt in text]\n",
    "    \n",
    "    authors = page.find_all('small', attrs={\"itemprop\":'author'})\n",
    "    links = [au.find_next_sibling('a').get('href') for au in authors]\n",
    "    authors_text = [au.get_text() for au in authors]\n",
    "    \n",
    "    my_output = {\"quotes\": quotes_text, \"authors\": authors_text, \"author_links\": links}\n",
    "    \n",
    "    my_df = pd.DataFrame(my_output)\n",
    "    \n",
    "    return my_df #my_output #quotes_text, links, authors_text"
   ]
  },
  {
   "cell_type": "markdown",
   "metadata": {},
   "source": [
    "Selectors"
   ]
  },
  {
   "cell_type": "code",
   "execution_count": null,
   "metadata": {},
   "outputs": [],
   "source": [
    "my_scraper()"
   ]
  },
  {
   "cell_type": "code",
   "execution_count": 2,
   "metadata": {},
   "outputs": [
    {
     "ename": "NameError",
     "evalue": "name 'page' is not defined",
     "output_type": "error",
     "traceback": [
      "\u001b[1;31m---------------------------------------------------------------------------\u001b[0m",
      "\u001b[1;31mNameError\u001b[0m                                 Traceback (most recent call last)",
      "\u001b[1;32m<ipython-input-2-2ce31fa56a2f>\u001b[0m in \u001b[0;36m<module>\u001b[1;34m()\u001b[0m\n\u001b[1;32m----> 1\u001b[1;33m \u001b[0mpage\u001b[0m\u001b[1;33m.\u001b[0m\u001b[0mselect\u001b[0m\u001b[1;33m(\u001b[0m\u001b[1;34m\"div.author p\"\u001b[0m\u001b[1;33m)\u001b[0m\u001b[1;33m\u001b[0m\u001b[0m\n\u001b[0m",
      "\u001b[1;31mNameError\u001b[0m: name 'page' is not defined"
     ]
    }
   ],
   "source": [
    "page.select(\"div.author p\")"
   ]
  },
  {
   "cell_type": "code",
   "execution_count": 33,
   "metadata": {},
   "outputs": [],
   "source": [
    "page.select_one(\"div#price a\")"
   ]
  },
  {
   "cell_type": "markdown",
   "metadata": {},
   "source": [
    "Regular expressions"
   ]
  },
  {
   "cell_type": "code",
   "execution_count": 36,
   "metadata": {},
   "outputs": [],
   "source": [
    "txt = \" I am Jack, I am 37 years old, I am earning $100\""
   ]
  },
  {
   "cell_type": "code",
   "execution_count": 37,
   "metadata": {},
   "outputs": [
    {
     "data": {
      "text/plain": [
       "['I', 'I', 'I']"
      ]
     },
     "execution_count": 37,
     "metadata": {},
     "output_type": "execute_result"
    }
   ],
   "source": [
    "re.findall(\"I\", txt)"
   ]
  },
  {
   "cell_type": "code",
   "execution_count": 38,
   "metadata": {},
   "outputs": [
    {
     "data": {
      "text/plain": [
       "['3', '7', '1', '0', '0']"
      ]
     },
     "execution_count": 38,
     "metadata": {},
     "output_type": "execute_result"
    }
   ],
   "source": [
    "re.findall(\"[0-9]\", txt)"
   ]
  },
  {
   "cell_type": "code",
   "execution_count": 39,
   "metadata": {},
   "outputs": [
    {
     "data": {
      "text/plain": [
       "['37', '10']"
      ]
     },
     "execution_count": 39,
     "metadata": {},
     "output_type": "execute_result"
    }
   ],
   "source": [
    "re.findall(\"[0-9]{2}\", txt)"
   ]
  },
  {
   "cell_type": "code",
   "execution_count": 40,
   "metadata": {},
   "outputs": [
    {
     "data": {
      "text/plain": [
       "['37', '100']"
      ]
     },
     "execution_count": 40,
     "metadata": {},
     "output_type": "execute_result"
    }
   ],
   "source": [
    "re.findall(\"[0-9]{2,3}\", txt)"
   ]
  },
  {
   "cell_type": "code",
   "execution_count": 41,
   "metadata": {},
   "outputs": [
    {
     "data": {
      "text/plain": [
       "['37', '100']"
      ]
     },
     "execution_count": 41,
     "metadata": {},
     "output_type": "execute_result"
    }
   ],
   "source": [
    "re.findall(\"[0-9]+\", txt)"
   ]
  },
  {
   "cell_type": "code",
   "execution_count": 42,
   "metadata": {},
   "outputs": [
    {
     "data": {
      "text/plain": [
       "['',\n",
       " '',\n",
       " '',\n",
       " '',\n",
       " '',\n",
       " '',\n",
       " '',\n",
       " '',\n",
       " '',\n",
       " '',\n",
       " '',\n",
       " '',\n",
       " '',\n",
       " '',\n",
       " '',\n",
       " '',\n",
       " '',\n",
       " '37',\n",
       " '',\n",
       " '',\n",
       " '',\n",
       " '',\n",
       " '',\n",
       " '',\n",
       " '',\n",
       " '',\n",
       " '',\n",
       " '',\n",
       " '',\n",
       " '',\n",
       " '',\n",
       " '',\n",
       " '',\n",
       " '',\n",
       " '',\n",
       " '',\n",
       " '',\n",
       " '',\n",
       " '',\n",
       " '',\n",
       " '',\n",
       " '',\n",
       " '',\n",
       " '',\n",
       " '100',\n",
       " '']"
      ]
     },
     "execution_count": 42,
     "metadata": {},
     "output_type": "execute_result"
    }
   ],
   "source": [
    "re.findall(\"[0-9]*\", txt)"
   ]
  },
  {
   "cell_type": "markdown",
   "metadata": {},
   "source": [
    "1). Cleaning Data\n",
    "2). Finding Selectors/Attributes"
   ]
  },
  {
   "cell_type": "code",
   "execution_count": 47,
   "metadata": {},
   "outputs": [
    {
     "data": {
      "text/plain": [
       "' I am Jack, I ams73 years old, I am earning $100'"
      ]
     },
     "execution_count": 47,
     "metadata": {},
     "output_type": "execute_result"
    }
   ],
   "source": [
    "re.sub(\"\\s[0-9]+\", \" 73\", txt)"
   ]
  },
  {
   "cell_type": "code",
   "execution_count": 48,
   "metadata": {},
   "outputs": [],
   "source": [
    "express = re.compile(\"\\s[0-9]+\")"
   ]
  },
  {
   "cell_type": "code",
   "execution_count": 49,
   "metadata": {},
   "outputs": [],
   "source": [
    "url = \"http://books.toscrape.com/\""
   ]
  },
  {
   "cell_type": "code",
   "execution_count": 51,
   "metadata": {},
   "outputs": [],
   "source": [
    "response = requests.get(url)\n",
    "page = response.content\n",
    "page = BeautifulSoup(page, \"html.parser\")"
   ]
  },
  {
   "cell_type": "code",
   "execution_count": 52,
   "metadata": {},
   "outputs": [
    {
     "data": {
      "text/plain": [
       "[<p class=\"price_color\">£51.77</p>,\n",
       " <p class=\"price_color\">£53.74</p>,\n",
       " <p class=\"price_color\">£50.10</p>,\n",
       " <p class=\"price_color\">£47.82</p>,\n",
       " <p class=\"price_color\">£54.23</p>,\n",
       " <p class=\"price_color\">£22.65</p>,\n",
       " <p class=\"price_color\">£33.34</p>,\n",
       " <p class=\"price_color\">£17.93</p>,\n",
       " <p class=\"price_color\">£22.60</p>,\n",
       " <p class=\"price_color\">£52.15</p>,\n",
       " <p class=\"price_color\">£13.99</p>,\n",
       " <p class=\"price_color\">£20.66</p>,\n",
       " <p class=\"price_color\">£17.46</p>,\n",
       " <p class=\"price_color\">£52.29</p>,\n",
       " <p class=\"price_color\">£35.02</p>,\n",
       " <p class=\"price_color\">£57.25</p>,\n",
       " <p class=\"price_color\">£23.88</p>,\n",
       " <p class=\"price_color\">£37.59</p>,\n",
       " <p class=\"price_color\">£51.33</p>,\n",
       " <p class=\"price_color\">£45.17</p>]"
      ]
     },
     "execution_count": 52,
     "metadata": {},
     "output_type": "execute_result"
    }
   ],
   "source": [
    "page.find_all(\"p\", class_=re.compile(\"price.+\"))"
   ]
  },
  {
   "cell_type": "code",
   "execution_count": 55,
   "metadata": {},
   "outputs": [],
   "source": [
    "prices = re.findall(\"£[0-9]+\\S[0-9]+\", str(page))"
   ]
  },
  {
   "cell_type": "code",
   "execution_count": 57,
   "metadata": {},
   "outputs": [
    {
     "data": {
      "text/plain": [
       "[51.77,\n",
       " 53.74,\n",
       " 50.1,\n",
       " 47.82,\n",
       " 54.23,\n",
       " 22.65,\n",
       " 33.34,\n",
       " 17.93,\n",
       " 22.6,\n",
       " 52.15,\n",
       " 13.99,\n",
       " 20.66,\n",
       " 17.46,\n",
       " 52.29,\n",
       " 35.02,\n",
       " 57.25,\n",
       " 23.88,\n",
       " 37.59,\n",
       " 51.33,\n",
       " 45.17]"
      ]
     },
     "execution_count": 57,
     "metadata": {},
     "output_type": "execute_result"
    }
   ],
   "source": [
    "[float(re.sub(\"£\", \"\", i)) for i in prices]"
   ]
  },
  {
   "cell_type": "code",
   "execution_count": 66,
   "metadata": {},
   "outputs": [
    {
     "data": {
      "text/plain": [
       "'\\x01B\\x02A'"
      ]
     },
     "execution_count": 66,
     "metadata": {},
     "output_type": "execute_result"
    }
   ],
   "source": [
    "re.sub(\"(\\S)([0-9].+)\",'\\1B\\2A',prices[0])"
   ]
  },
  {
   "cell_type": "code",
   "execution_count": 67,
   "metadata": {},
   "outputs": [],
   "source": [
    "email = \"ma@as.com\""
   ]
  },
  {
   "cell_type": "code",
   "execution_count": 68,
   "metadata": {},
   "outputs": [
    {
     "data": {
      "text/plain": [
       "['ma@as.com']"
      ]
     },
     "execution_count": 68,
     "metadata": {},
     "output_type": "execute_result"
    }
   ],
   "source": [
    "re.findall(\"\\S+@.+\", email)"
   ]
  },
  {
   "cell_type": "code",
   "execution_count": 87,
   "metadata": {},
   "outputs": [
    {
     "data": {
      "text/plain": [
       "'ma@as.c.ru'"
      ]
     },
     "execution_count": 87,
     "metadata": {},
     "output_type": "execute_result"
    }
   ],
   "source": [
    "re.sub(\"(\\S+@\\S+)(.\\S+)\", r\"\\1.ru\", email)"
   ]
  },
  {
   "cell_type": "code",
   "execution_count": 75,
   "metadata": {},
   "outputs": [
    {
     "data": {
      "text/plain": [
       "'ma@as.com'"
      ]
     },
     "execution_count": 75,
     "metadata": {},
     "output_type": "execute_result"
    }
   ],
   "source": [
    "email"
   ]
  },
  {
   "cell_type": "code",
   "execution_count": null,
   "metadata": {},
   "outputs": [],
   "source": []
  }
 ],
 "metadata": {
  "kernelspec": {
   "display_name": "Python 3",
   "language": "python",
   "name": "python3"
  },
  "language_info": {
   "codemirror_mode": {
    "name": "ipython",
    "version": 3
   },
   "file_extension": ".py",
   "mimetype": "text/x-python",
   "name": "python",
   "nbconvert_exporter": "python",
   "pygments_lexer": "ipython3",
   "version": "3.6.5"
  }
 },
 "nbformat": 4,
 "nbformat_minor": 2
}
